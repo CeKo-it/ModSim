{
 "cells": [
  {
   "cell_type": "markdown",
   "metadata": {
    "toc": true
   },
   "source": [
    "<h1>Project robot<span class=\"tocSkip\"></span></h1>\n",
    "<div class=\"toc\"><ul class=\"toc-item\"><li><span><a href=\"#Modelling\" data-toc-modified-id=\"Modelling-1\"><span class=\"toc-item-num\">1&nbsp;&nbsp;</span>Modelling</a></span></li><li><span><a href=\"#Numerical-treatment\" data-toc-modified-id=\"Numerical-treatment-2\"><span class=\"toc-item-num\">2&nbsp;&nbsp;</span>Numerical treatment</a></span><ul class=\"toc-item\"><li><span><a href=\"#Technical-drawing\" data-toc-modified-id=\"Technical-drawing-2.1\"><span class=\"toc-item-num\">2.1&nbsp;&nbsp;</span>Technical drawing</a></span></li><li><span><a href=\"#Direct-kinematics\" data-toc-modified-id=\"Direct-kinematics-2.2\"><span class=\"toc-item-num\">2.2&nbsp;&nbsp;</span>Direct kinematics</a></span><ul class=\"toc-item\"><li><span><a href=\"#Task-1:-Direct-kinematics-(1-point)\" data-toc-modified-id=\"Task-1:-Direct-kinematics-(1-point)-2.2.1\"><span class=\"toc-item-num\">2.2.1&nbsp;&nbsp;</span>Task 1: Direct kinematics <font color=\"red\">(1 point)</font></a></span></li></ul></li><li><span><a href=\"#Inverse-kinematics\" data-toc-modified-id=\"Inverse-kinematics-2.3\"><span class=\"toc-item-num\">2.3&nbsp;&nbsp;</span>Inverse kinematics</a></span><ul class=\"toc-item\"><li><span><a href=\"#Task-2:-Formula-for-Jacobian-matrix-(1-point)\" data-toc-modified-id=\"Task-2:-Formula-for-Jacobian-matrix-(1-point)-2.3.1\"><span class=\"toc-item-num\">2.3.1&nbsp;&nbsp;</span>Task 2: Formula for Jacobian matrix <font color=\"red\">(1 point)</font></a></span></li><li><span><a href=\"#Task-3:-Jacobian-matrix-with-Python-(1-point)\" data-toc-modified-id=\"Task-3:-Jacobian-matrix-with-Python-(1-point)-2.3.2\"><span class=\"toc-item-num\">2.3.2&nbsp;&nbsp;</span>Task 3: Jacobian matrix with Python <font color=\"red\">(1 point)</font></a></span></li></ul></li><li><span><a href=\"#Path-planing\" data-toc-modified-id=\"Path-planing-2.4\"><span class=\"toc-item-num\">2.4&nbsp;&nbsp;</span>Path planing</a></span></li><li><span><a href=\"#Collision-detection\" data-toc-modified-id=\"Collision-detection-2.5\"><span class=\"toc-item-num\">2.5&nbsp;&nbsp;</span>Collision detection</a></span></li></ul></li><li><span><a href=\"#Implementation\" data-toc-modified-id=\"Implementation-3\"><span class=\"toc-item-num\">3&nbsp;&nbsp;</span>Implementation</a></span><ul class=\"toc-item\"><li><span><a href=\"#Direct-kinematics\" data-toc-modified-id=\"Direct-kinematics-3.1\"><span class=\"toc-item-num\">3.1&nbsp;&nbsp;</span>Direct kinematics</a></span><ul class=\"toc-item\"><li><span><a href=\"#Task-4:-Direct-kinematics-(2-points)\" data-toc-modified-id=\"Task-4:-Direct-kinematics-(2-points)-3.1.1\"><span class=\"toc-item-num\">3.1.1&nbsp;&nbsp;</span>Task 4: Direct kinematics <font color=\"red\">(2 points)</font></a></span></li></ul></li><li><span><a href=\"#Inverse-kinematics\" data-toc-modified-id=\"Inverse-kinematics-3.2\"><span class=\"toc-item-num\">3.2&nbsp;&nbsp;</span>Inverse kinematics</a></span><ul class=\"toc-item\"><li><span><a href=\"#Task-5:-Inverse-kinematics-(5-points)\" data-toc-modified-id=\"Task-5:-Inverse-kinematics-(5-points)-3.2.1\"><span class=\"toc-item-num\">3.2.1&nbsp;&nbsp;</span>Task 5: Inverse kinematics <font color=\"red\">(5 points)</font></a></span></li></ul></li><li><span><a href=\"#Path-planing\" data-toc-modified-id=\"Path-planing-3.3\"><span class=\"toc-item-num\">3.3&nbsp;&nbsp;</span>Path planing</a></span><ul class=\"toc-item\"><li><span><a href=\"#Task-6:-Path-planing-(2-points)\" data-toc-modified-id=\"Task-6:-Path-planing-(2-points)-3.3.1\"><span class=\"toc-item-num\">3.3.1&nbsp;&nbsp;</span>Task 6: Path planing <font color=\"red\">(2 points)</font></a></span></li></ul></li><li><span><a href=\"#Collision-detection\" data-toc-modified-id=\"Collision-detection-3.4\"><span class=\"toc-item-num\">3.4&nbsp;&nbsp;</span>Collision detection</a></span><ul class=\"toc-item\"><li><span><a href=\"#Task-7:-Intersect-line-circle-(4-points)\" data-toc-modified-id=\"Task-7:-Intersect-line-circle-(4-points)-3.4.1\"><span class=\"toc-item-num\">3.4.1&nbsp;&nbsp;</span>Task 7: Intersect line circle <font color=\"red\">(4 points)</font></a></span></li></ul></li></ul></li><li><span><a href=\"#Visualization\" data-toc-modified-id=\"Visualization-4\"><span class=\"toc-item-num\">4&nbsp;&nbsp;</span>Visualization</a></span></li><li><span><a href=\"#Evaluation\" data-toc-modified-id=\"Evaluation-5\"><span class=\"toc-item-num\">5&nbsp;&nbsp;</span>Evaluation</a></span><ul class=\"toc-item\"><li><span><a href=\"#Verification\" data-toc-modified-id=\"Verification-5.1\"><span class=\"toc-item-num\">5.1&nbsp;&nbsp;</span>Verification</a></span></li><li><span><a href=\"#Validation\" data-toc-modified-id=\"Validation-5.2\"><span class=\"toc-item-num\">5.2&nbsp;&nbsp;</span>Validation</a></span></li></ul></li><li><span><a href=\"#Embedding\" data-toc-modified-id=\"Embedding-6\"><span class=\"toc-item-num\">6&nbsp;&nbsp;</span>Embedding</a></span><ul class=\"toc-item\"><li><ul class=\"toc-item\"><li><span><a href=\"#Task-8:-Video-(4-points)\" data-toc-modified-id=\"Task-8:-Video-(4-points)-6.0.1\"><span class=\"toc-item-num\">6.0.1&nbsp;&nbsp;</span>Task 8: Video <font color=\"red\">(4 points)</font></a></span></li></ul></li></ul></li><li><span><a href=\"#Literature\" data-toc-modified-id=\"Literature-7\"><span class=\"toc-item-num\">7&nbsp;&nbsp;</span>Literature</a></span></li></ul></div>"
   ]
  },
  {
   "cell_type": "markdown",
   "metadata": {},
   "source": [
    "<div class=\"alert alert-block alert-danger\">\n",
    "\n",
    "<b>Group: XXX</b>\n",
    "- XXX\n",
    "- XXX\n",
    "- XXX\n",
    "- XXX\n",
    "\n",
    "<b>Result:</b>\n",
    "    \n",
    "| Task   |  1  |  2  |  3  |  4  |  5  |  6  |  7  |  8  |  Sum  |\n",
    "|--------|-----|-----|-----|-----|-----|-----|-----|-----|-------|\n",
    "| Points | ?/1 | ?/1 | ?/1 | ?/2 | ?/5 | ?/2 | ?/4 | ?/4 | ??/20 |  \n",
    "    \n",
    "</div>"
   ]
  },
  {
   "cell_type": "code",
   "execution_count": null,
   "metadata": {},
   "outputs": [],
   "source": [
    "# If you are using Google Colab mount drive and change directory\n",
    "if 'google.colab' in str(get_ipython()):\n",
    "    print('Running on Google Colab')\n",
    "    from google.colab import drive\n",
    "    drive.mount('/content/gdrive')\n",
    "    %cd '/content/gdrive/MyDrive/Colab Notebooks'\n",
    "else:\n",
    "    print('Not running on Google Colab')"
   ]
  },
  {
   "cell_type": "markdown",
   "metadata": {},
   "source": [
    "# Modelling\n",
    "Robots have been used in industrial manufacturing processes for almost 50 years in different areas of application.\n",
    "An industrial robot is a machine for processing or assembling workpieces that is controlled by computer programs.\n",
    "Industrial robots are distinguished by the structure of the robot arms, the so-called kinematics.\n",
    "Robotic arms consist of rigid links that are connected to each other by swivel joints or sliding joints.\n",
    "The most common robotic arms are 6-axis robots.\n",
    "They are comparable to the human arm and therefore offer many application possibilities.\n",
    "Robots have established themselves as an important part of production, particularly in the automotive industry."
   ]
  },
  {
   "cell_type": "code",
   "execution_count": null,
   "metadata": {},
   "outputs": [],
   "source": [
    "from IPython.display import Image, YouTubeVideo"
   ]
  },
  {
   "cell_type": "code",
   "execution_count": null,
   "metadata": {
    "scrolled": true
   },
   "outputs": [],
   "source": [
    "YouTubeVideo('rbki4HR41-4')"
   ]
  },
  {
   "cell_type": "markdown",
   "metadata": {},
   "source": [
    "In this project we consider a very simplified model, in which the robot consists of two arms that move in one plane.\n",
    "Swivel joints allow the rotation of the arms.\n",
    "The arms have a fixed length.\n",
    "At the end of the second arm, an object hangs vertically downwards, attached to a freely suspended rope."
   ]
  },
  {
   "cell_type": "code",
   "execution_count": null,
   "metadata": {},
   "outputs": [],
   "source": [
    "Image('robot_figure1.jpg', width=300, height=150)"
   ]
  },
  {
   "cell_type": "markdown",
   "metadata": {},
   "source": [
    "By appropriately controlling the two angles on the swivel joints, the gripper can be used to move the object over an obstacle.\n",
    "The goal is to simulate and visualize different motion sequences for lifting an object over an obstacle."
   ]
  },
  {
   "cell_type": "markdown",
   "metadata": {},
   "source": [
    "# Numerical treatment\n",
    "In order to describe the model with mathematical formulas, we need a detailed technical drawing."
   ]
  },
  {
   "cell_type": "markdown",
   "metadata": {},
   "source": [
    "## Technical drawing\n",
    "We do not need a 3D sketch, a 2D sketch is sufficient.\n",
    "At point $O$ the robot is fixed at the baseline.\n",
    "The origin of the coordinate system will be placed at this point\n",
    "with the $x$-axis pointing to the right and the $y$-axis pointing up.\n",
    "We consider an obstacle in the form of a rectangle with height $h$ and width $w$.\n",
    "The distance between the obstacle and the origin is denoted by $d$.\n",
    "The object to be transported over the obstacle is described by a circle with midpoint $M$ and radius $r$.\n",
    "The positions of the points $P$, $Q$, $R$, $M$ and $T$ depend on the angles $\\alpha$ and $\\beta$.\n",
    "$T$ is the point of the object closest to the baseline."
   ]
  },
  {
   "cell_type": "code",
   "execution_count": null,
   "metadata": {},
   "outputs": [],
   "source": [
    "Image('robot_figure2.jpg', width=600, height=300)"
   ]
  },
  {
   "cell_type": "markdown",
   "metadata": {},
   "source": [
    "We initialize all variables that describe the robot and the obstacle with plausible values.\n",
    "During the complete simulation we should always keep in mind that it should also work with different parameters."
   ]
  },
  {
   "cell_type": "code",
   "execution_count": null,
   "metadata": {},
   "outputs": [],
   "source": [
    "# obstacle\n",
    "h = 2.5 # height of the obstacle  \n",
    "w = 1.0 # width of the obstacle \n",
    "d = 5.0 # distance to the origin of the obstacle \n",
    "\n",
    "# robot arms\n",
    "l1 = 6.0 # length of the first arm\n",
    "l2 = 6.0 # length of the second arm\n",
    "l3 = 1.0 # length of the third arm\n",
    "\n",
    "# object\n",
    "r = 0.5 # radius of the object"
   ]
  },
  {
   "cell_type": "markdown",
   "metadata": {},
   "source": [
    "## Direct kinematics\n",
    "The positions of the points $P$, $Q$, $R$, $M$ and $T$ is clearly defined by the two joint angles.\n",
    "This type of control by the angles $\\alpha$ and $\\beta$ is called direct kinematics.\n",
    "Our objective is to derive formulars for the positions of the points $P$, $Q$, $R$, $M$ and $T$ as a function of $\\alpha$ and $\\beta$.\n",
    "The parameters $l_1$, $l_2$, $l_3$ and $r$ are also included in these formulas.\n",
    "\n",
    "The position of point $P$ with respect to the position of point $O$ can be calculated using the length $l_1$ and the angle $\\alpha$:\n",
    "\n",
    "$$\n",
    "P = O +\n",
    "l_1 \\, \n",
    "\\left(\n",
    "\\begin{array}{c}\n",
    "\\cos{(\\alpha)} \\\\\n",
    "\\sin{(\\alpha)} \\\\\n",
    "\\end{array}\n",
    "\\right)\n",
    "$$\n",
    "\n",
    "In order to calculate the position of point $Q$ we use the angle $\\gamma$ as shown in the figure above:\n",
    "\n",
    "$$\n",
    "\\alpha + \\beta - \\gamma = \\pi\n",
    "\\quad \\Longrightarrow \\quad\n",
    "\\gamma = \\alpha + \\beta - \\pi\n",
    "$$\n",
    "\n",
    "The position of point $Q$ with respect to the position of point $Q$ can be calculated using the length $l_2$ and the angle $\\gamma$:\n",
    "\n",
    "$$\n",
    "Q\n",
    "= P\n",
    "+ l_2 \\, \n",
    "\\left(\n",
    "\\begin{array}{c}\n",
    "\\cos{(\\gamma)}\\\\\n",
    "\\sin{(\\gamma)}\\\\\n",
    "\\end{array}\n",
    "\\right)\n",
    "$$\n",
    "\n",
    "By a straightforward calculation we get the positions of the points $R$, $M$ and $T$:  \n",
    "\n",
    "$$\n",
    "R = Q\n",
    "+ l_3 \\, \n",
    "\\left(\n",
    "\\begin{array}{r}\n",
    " 0\\\\\n",
    "-1\\\\\n",
    "\\end{array}\n",
    "\\right),\n",
    "\\quad\n",
    "M = R\n",
    "+ r \\, \n",
    "\\left(\n",
    "\\begin{array}{r}\n",
    " 0\\\\\n",
    "-1\\\\\n",
    "\\end{array}\n",
    "\\right),\n",
    "\\quad\n",
    "T = M\n",
    "+ r \\, \n",
    "\\left(\n",
    "\\begin{array}{r}\n",
    " 0\\\\\n",
    "-1\\\\\n",
    "\\end{array}\n",
    "\\right)\n",
    "$$"
   ]
  },
  {
   "cell_type": "markdown",
   "metadata": {},
   "source": [
    "<div class=\"alert alert-block alert-info\">\n",
    "    \n",
    "### Task 1: Direct kinematics <font color=red>(1 point)</font>\n",
    "\n",
    "Calculate the positions of points $P$ and $Q$ for $\\alpha = \\frac{\\pi}{3}$ and $\\beta = \\frac{\\pi}{2}$ with Python and display them.\n",
    "</div>"
   ]
  },
  {
   "cell_type": "markdown",
   "metadata": {},
   "source": [
    "<div class=\"alert alert-block alert-success\">\n",
    "    \n",
    "<b>Solution of Task 1</b>\n",
    "</div>"
   ]
  },
  {
   "cell_type": "code",
   "execution_count": null,
   "metadata": {},
   "outputs": [],
   "source": [
    "# Solution of Task 1\n",
    "import numpy as np"
   ]
  },
  {
   "cell_type": "markdown",
   "metadata": {},
   "source": [
    "## Inverse kinematics\n",
    "Inverse kinematics is exactly the opposite of direct kinematics.\n",
    "This means that the position of the point $T(T_x \\mid T_y)$ is given and the angles $\\alpha$ and $\\beta$ are calculated.\n",
    "If we put together all the formulas of direct kinematics, we get:\n",
    "\n",
    "$$\n",
    "    \\begin{array}{lcl}\n",
    "        T_x & = & l_1 \\, \\cos(\\alpha) - l_2 \\, \\cos(\\alpha + \\beta)\\\\\n",
    "\t\tT_y & = & l_1 \\, \\sin(\\alpha) - l_2 \\, \\sin(\\alpha + \\beta) - l_3 - 2 \\, r\n",
    "\t\\end{array}\n",
    "$$\n",
    "\n",
    "Now we have to solve these equations according to $\\alpha$ and $\\beta$.\n",
    "We could do that through tricky symbolic calculations.\n",
    "But we choose another alternative.\n",
    "We solve the equations using a numerical approximation method.\n",
    "The standard procedure for this purpose is Newton's method for finding roots.\n",
    "To this end, we must reformulate the equations.\n",
    "The problem now is:\n",
    "Find the common roots $\\alpha$ and $\\beta$ for the functions $f_1$ and $f_2$:\n",
    "\n",
    "$$\n",
    "\t\\mathbf{f}(\\alpha,\\beta) = \n",
    "\t\\left(\n",
    "\t\\begin{array}{l}\n",
    "\t\tf_1(\\alpha,\\beta)\\\\\n",
    "\t\tf_2(\\alpha,\\beta)\n",
    "\t\\end{array}\n",
    "\t\\right)\n",
    "\t=\n",
    "\t\\left(\n",
    "\t\\begin{array}{l}\n",
    "\t\tT_x - l_1 \\, \\cos(\\alpha) + l_2 \\, \\cos(\\alpha + \\beta) \\\\\n",
    "\t\tT_y - l_1 \\, \\sin(\\alpha) + l_2 \\, \\sin(\\alpha + \\beta) + l_3 + 2 \\, r\n",
    "\t\\end{array}\n",
    "\t\\right).\n",
    "$$"
   ]
  },
  {
   "cell_type": "markdown",
   "metadata": {},
   "source": [
    "<div class=\"alert alert-block alert-info\">\n",
    "    \n",
    "### Task 2: Formula for Jacobian matrix <font color=red>(1 point)</font>\n",
    "\n",
    "Derive a formula for the Jacobian matrix of the function $\\mathbf{f}$.\n",
    "\n",
    "</div>"
   ]
  },
  {
   "cell_type": "markdown",
   "metadata": {},
   "source": [
    "<div class=\"alert alert-block alert-success\">\n",
    "    \n",
    "<b>Solution of Task 2</b>\n",
    "\n",
    "Formula for Jacobian matrix\n",
    "\n",
    "</div>"
   ]
  },
  {
   "cell_type": "markdown",
   "metadata": {},
   "source": [
    "<div class=\"alert alert-block alert-info\">\n",
    "    \n",
    "### Task 3: Jacobian matrix with Python <font color=red>(1 point)</font>\n",
    "\n",
    "Calculate the values of the Jacobian matrix $J$ for\n",
    "$\\alpha = \\frac{\\pi}{3}$ and $\\beta = \\frac{\\pi}{2}$\n",
    "with Python and display them.\n",
    "</div>"
   ]
  },
  {
   "cell_type": "markdown",
   "metadata": {},
   "source": [
    "<div class=\"alert alert-block alert-success\">\n",
    "    \n",
    "<b>Solution of Task 3</b>\n",
    "</div>"
   ]
  },
  {
   "cell_type": "code",
   "execution_count": null,
   "metadata": {},
   "outputs": [],
   "source": [
    "# Solution of Task 3"
   ]
  },
  {
   "cell_type": "markdown",
   "metadata": {},
   "source": [
    "## Path planing\n",
    "The movement of the object should take place along a predetermined trajectory for the positions of point $T$.\n",
    "\n",
    "The simplest trajectory consists of a rectangular movement.\n",
    "The object is first lifted vertically from the floor until the height of the obstacle is reached.\n",
    "Then the object is moved horizontally over the obstacle.\n",
    "Finally, the object is placed vertically down on the floor.\n",
    "\n",
    "Other alternatives are trajectory curves in the form of semicircles or parabolas."
   ]
  },
  {
   "cell_type": "markdown",
   "metadata": {},
   "source": [
    "## Collision detection\n",
    "One of the most important tasks when simulating robots is to make sure that there are no collisions.\n",
    "Collisions can occur in different forms.\n",
    "The object could collide with the obstacle, with an arm, or with the ground.\n",
    "\n",
    "Functions that intersect straight lines with straight lines or with circles form the mathematical basis of collision checks.\n",
    "\n",
    "We take a closer look at the calculation of the intersection of a straight line with a circle.\n",
    "We represent a straight line with the constants $a$, $b$ and $c$ with the equation\n",
    "\n",
    "$$\n",
    "a \\, x + b \\, y = c\n",
    "$$\n",
    "\n",
    "and a circle with midpoint $M(x_0 \\mid y_0)$ and radius $r$ with the equation\n",
    "\n",
    "$$\n",
    "(x - x_0)^2 + (y - y_0)^2 = r^2\n",
    "$$\n",
    "\n",
    "We use the transformation\n",
    "\n",
    "$$\n",
    "\\tilde{x} = x - x_0, \\quad \\tilde{y} = y - y_0 \n",
    "$$\n",
    "\n",
    "to simplify the equation of the circle to\n",
    "\n",
    "$$\n",
    "\\tilde{x}^2 + \\tilde{y}^2 = r^2\n",
    "$$\n",
    "\n",
    "With this transformation the equation for the straight line is given by\n",
    "\n",
    "$$\n",
    "\ta (\\tilde{x} + x_0) + b (\\tilde{y} + y_0) = c\n",
    "    \\quad \\Longrightarrow \\quad\n",
    "    a \\, \\tilde{x} + b \\, \\tilde{y} = \n",
    "    \\underbrace{c - a \\, x_0 - b \\, y_0}_{\\displaystyle d} \n",
    "$$\n",
    "\n",
    "In order to simplify the notation we use the shortcut\n",
    "\n",
    "$$\n",
    "d = c - a \\, x_0 - b \\, y_0\n",
    "$$\n",
    "\n",
    "In case of $b \\neq 0$ we can solve this equation for $\\tilde{y}$\n",
    "\n",
    "$$\n",
    "\\tilde{y} = \\frac{d - a \\tilde{x}}{b}\n",
    "$$\n",
    "\n",
    "Inserting this in the equation for the circle results in the quadratic equation\n",
    "\n",
    "$$\n",
    "\\tilde{x}^2 + \\left( \\frac{d - a \\tilde{x}}{b}\\right)^2 = r^2\n",
    "$$\n",
    "\n",
    "This can be written as\n",
    "\n",
    "$$\n",
    "\\underbrace{\\left(1 + \\frac{a^2}{b^2} \\right)}_{\\displaystyle A} \\, \\tilde{x}^2 \\, + \\,\n",
    "\\underbrace{\\frac{-2 \\, a \\, d}{b^2}}_{\\displaystyle B} \\, \\tilde{x} \\, + \\, \n",
    "\\underbrace{\\frac{d^2}{b^2} - r^2}_{\\displaystyle C} = 0\n",
    "$$\n",
    "\n",
    "After multiplication with $b^2$ this results in\n",
    "\n",
    "$$\n",
    "\\underbrace{\\left(a^2 + b^2 \\right)}_{\\displaystyle A} \\, \\tilde{x}^2 \\, - \\,\n",
    "\\underbrace{2 \\, a \\, d}_{\\displaystyle -B} \\, \\tilde{x} \\, + \\, \n",
    "\\underbrace{d^2 - r^2 \\, b^2}_{\\displaystyle C} = 0\n",
    "$$\n",
    "\n",
    "With the shortcuts\n",
    "\n",
    "$$\n",
    "A = a^2 + b^2, \\quad\n",
    "B = -2 \\, a \\, d, \\quad \n",
    "C = d^2 - r^2 \\, b^2\n",
    "$$\n",
    "\n",
    "the problem ends up in a quadratic equation for $\\tilde{x}$\n",
    "\n",
    "$$\n",
    "A \\, \\tilde{x}^2 + B \\, \\tilde{x} + C = 0\n",
    "$$\n",
    "\n",
    "As expected, the intersection problem of a stright line with a circle can either have two solutions, one solution, or no solution at all.\n",
    "\n",
    "In case of $b = 0$ we can proceed similarly.\n",
    "Since in this case we can guarantee $a \\neq 0$."
   ]
  },
  {
   "cell_type": "markdown",
   "metadata": {},
   "source": [
    "# Implementation\n",
    "We implement separate functions for the individual calculation steps of the simulation."
   ]
  },
  {
   "cell_type": "markdown",
   "metadata": {},
   "source": [
    "## Direct kinematics\n",
    "In the last chapter we derived the formulas for direct kinematics.\n",
    "The input for the function `robotDirectKinematics()` are the angles $\\alpha$ and $\\beta$.\n",
    "$l_1$, $l_2$, $l_3$ and $r$ are used as global variables inside this function."
   ]
  },
  {
   "cell_type": "markdown",
   "metadata": {},
   "source": [
    "<div class=\"alert alert-block alert-info\">\n",
    "    \n",
    "### Task 4: Direct kinematics <font color=red>(2 points)</font>\n",
    "\n",
    "Implement the function `robotDirectKinematics()` and test it with \n",
    "$\\alpha = \\frac{\\pi}{3}$ and $\\beta = \\frac{\\pi}{2}$.\n",
    "</div>"
   ]
  },
  {
   "cell_type": "markdown",
   "metadata": {},
   "source": [
    "<div class=\"alert alert-block alert-success\">\n",
    "    \n",
    "<b>Solution of Task 4</b>\n",
    "\n",
    "Implementation of function `robotDirectKinematics()`:\n",
    "</div>"
   ]
  },
  {
   "cell_type": "code",
   "execution_count": null,
   "metadata": {},
   "outputs": [],
   "source": [
    "# Solution of Task 4\n",
    "def robotDirectKinematics(alpha,beta):\n",
    "    #\n",
    "    # replace this with your code!\n",
    "    #\n",
    "    P = np.array([0,0])\n",
    "    Q = np.array([0,0])\n",
    "    R = np.array([0,0])\n",
    "    M = np.array([0,0])\n",
    "    T = np.array([0,0])\n",
    "    \n",
    "    return P, Q, R, M, T"
   ]
  },
  {
   "cell_type": "markdown",
   "metadata": {},
   "source": [
    "<div class=\"alert alert-block alert-success\">\n",
    "    \n",
    "Test of function `robotDirectKinematics()` with\n",
    "$\\alpha = \\frac{\\pi}{3}$ and $\\beta = \\frac{\\pi}{2}$:\n",
    "</div>"
   ]
  },
  {
   "cell_type": "code",
   "execution_count": null,
   "metadata": {},
   "outputs": [],
   "source": [
    "# Solution of Task 4"
   ]
  },
  {
   "cell_type": "markdown",
   "metadata": {},
   "source": [
    "## Inverse kinematics\n",
    "We use Newton's method for finding roots to calculate the angles $\\alpha$ and $\\beta$ according to a given position $T$.\n",
    "Therefore we use the functions $f$ and $g$ as described it in the last chapter.\n",
    "\n",
    "In the final simulation we use a sequence of positions that are close together along a path.\n",
    "The angles of the last position can be used as starting values to calculate the angles for the current position.\n",
    "Thus in the function `robotInverseKinematics()` we use the angles $\\alpha$ and $\\beta$ both as input and output.\n",
    "\n",
    "The iteration is stopped as soon as a sufficient accuracy is reached."
   ]
  },
  {
   "cell_type": "markdown",
   "metadata": {},
   "source": [
    "<div class=\"alert alert-block alert-info\">\n",
    "    \n",
    "### Task 5: Inverse kinematics <font color=red>(5 points)</font>\n",
    "\n",
    "Implement the function `robotInverseKinematics()`.\n",
    "Test the function with the point $T$ located on the base line exactly between $O$ and the obstacle.\n",
    "Print the corresponding values for $\\alpha$ and $\\beta$.\n",
    "</div>"
   ]
  },
  {
   "cell_type": "markdown",
   "metadata": {},
   "source": [
    "<div class=\"alert alert-block alert-success\">\n",
    "\n",
    "<b>Solution of task 5 </b>\n",
    "\n",
    "Implementation of function `robotInverseKinematics()`:\n",
    "</div>"
   ]
  },
  {
   "cell_type": "code",
   "execution_count": null,
   "metadata": {},
   "outputs": [],
   "source": [
    "# Solution of Task 5\n",
    "def robotInverseKinematics(T,alpha,beta):\n",
    "\n",
    "    # Put here the code for the Newton-iteration with initial values alpha und beta\n",
    "    \n",
    "    return alpha, beta"
   ]
  },
  {
   "cell_type": "markdown",
   "metadata": {},
   "source": [
    "<div class=\"alert alert-block alert-success\">\n",
    "    \n",
    "Testing of function `robotInverseKinematics()`:\n",
    "</div>"
   ]
  },
  {
   "cell_type": "code",
   "execution_count": null,
   "metadata": {},
   "outputs": [],
   "source": [
    "# Solution of Task 5\n",
    "T = np.array([d/2.0,0.0])\n",
    "alpha, beta = 0.5*np.pi, 0.5*np.pi\n",
    "print('alpha = ',alpha,'beta = ',beta)\n",
    "alpha, beta = robotInverseKinematics(T,alpha,beta)\n",
    "print('alpha = ',alpha,'beta = ',beta)"
   ]
  },
  {
   "cell_type": "markdown",
   "metadata": {},
   "source": [
    "## Path planing\n",
    "We implement a rectangular movement for path planing.\n",
    "The motion will start at position $(x_0 \\mid 0)$ and end at position $(x_1 \\mid 0)$.\n",
    "The height ist specified by $y$ which should be greater than the height $h$ of the obstacle. \n",
    "The function will generate a sequenze of $n$ points.\n",
    "\n",
    "<div class=\"alert alert-block alert-warning\">\n",
    "    \n",
    "<b>Example</b>    \n",
    "\n",
    "For example $x_0=3$, $x_1=7$, $y=6$ and $n=13$ will generate the following path: \n",
    "\n",
    "$$\n",
    "\\left(\n",
    "    \\begin{array}{lllllllllllll}\n",
    "        3. & 3. & 3. & 3. & 3. & 4. & 5. & 6. & 7. & 7. & 7. & 7. & 7. \\\\\n",
    "        0. & 1.5 & 3. & 4.5 & 6. & 6. & 6. & 6. & 6. & 4.5 & 3. & 1.5 & 0.\n",
    "     \\end{array}\n",
    "\\right)\n",
    "$$\n",
    "\n",
    "</div>"
   ]
  },
  {
   "cell_type": "markdown",
   "metadata": {},
   "source": [
    "<div class=\"alert alert-block alert-info\">\n",
    "    \n",
    "### Task 6: Path planing <font color=red>(2 points)</font>\n",
    "\n",
    "Implement the function `robotPath()` so that a sequenze of exactly $n$ points will be generated.\n",
    "</div>"
   ]
  },
  {
   "cell_type": "markdown",
   "metadata": {},
   "source": [
    "<div class=\"alert alert-block alert-success\">\n",
    "    \n",
    "<b>Solution of task 6</b>\n",
    "\n",
    "Implementation of function `robotPath()`:\n",
    "</div>"
   ]
  },
  {
   "cell_type": "code",
   "execution_count": null,
   "metadata": {},
   "outputs": [],
   "source": [
    "# Solution of Task 6\n",
    "def robotPath(x0,x1,y,n):\n",
    "    \n",
    "    #\n",
    "    # replace this with your code!\n",
    "    #\n",
    "    path = np.array([[x0, x0, x1, x1],[0.0, y, y, 0.0]])\n",
    "       \n",
    "    return path"
   ]
  },
  {
   "cell_type": "markdown",
   "metadata": {},
   "source": [
    "Print and plot the path with $x_0=3$, $x_1=7$, $y=6$ and $n=13$:"
   ]
  },
  {
   "cell_type": "code",
   "execution_count": null,
   "metadata": {},
   "outputs": [],
   "source": [
    "path = robotPath(3.0,7.0,6.0,13)\n",
    "print(path)\n",
    "import matplotlib.pyplot as plt\n",
    "fig1, ax1 = plt.subplots()\n",
    "ax1.plot(path[0,:],path[1,:],'.r')"
   ]
  },
  {
   "cell_type": "markdown",
   "metadata": {},
   "source": [
    "## Collision detection\n",
    "We will implement a function to calculate the intersection points of a straight line with a circle, as described in the last chapter. "
   ]
  },
  {
   "cell_type": "markdown",
   "metadata": {},
   "source": [
    "<div class=\"alert alert-block alert-info\">\n",
    "    \n",
    "### Task 7: Intersect line circle <font color=red>(4 points)</font>\n",
    "\n",
    "Implement the function `intersectLineCircle()`.\n",
    "Do not forget to also consider the special cases of vertical and horizontal straight lines.\n",
    "</div>"
   ]
  },
  {
   "cell_type": "markdown",
   "metadata": {},
   "source": [
    "<div class=\"alert alert-block alert-success\">\n",
    "\n",
    "<b>Solution of task 7</b>\n",
    "\n",
    "Implementation of function `intersectLineCircle()`:\n",
    "</div>"
   ]
  },
  {
   "cell_type": "code",
   "execution_count": null,
   "metadata": {},
   "outputs": [],
   "source": [
    "# Solution of Task 7\n",
    "def intersectLineCircle(a,b,c,M,r):\n",
    "    # line:   a*x + b*y = c\n",
    "    # circle: (x - M[0])^2 + (y - M[1])^2 = r^2\n",
    "    S = np.array([[],[]])\n",
    "\n",
    "    return S"
   ]
  },
  {
   "cell_type": "markdown",
   "metadata": {},
   "source": [
    "Test of function `intersectLineCircle()`:"
   ]
  },
  {
   "cell_type": "code",
   "execution_count": null,
   "metadata": {},
   "outputs": [],
   "source": [
    "# straight line: a*x + b*y = c\n",
    "a = -2.0\n",
    "b =  1.0\n",
    "c = -1.0\n",
    "\n",
    "# circle: midpoint M, radius r\n",
    "MM = np.array([1.0,2.0])\n",
    "rr =  3.0\n",
    "\n",
    "# intersect line with circle\n",
    "SS = intersectLineCircle(a,b,c,MM,rr)\n",
    "print('S = ',SS)\n",
    "\n",
    "# plot intersection points\n",
    "fig2, ax2 = plt.subplots(1)\n",
    "if len(SS) > 0:\n",
    "    ax2.plot(SS[0,:],SS[1,:],'*r')\n",
    "\n",
    "# plot circle\n",
    "t = np.linspace(0,2*np.pi,100)\n",
    "ax2.plot(MM[0]+rr*np.cos(t),MM[1]+rr*np.sin(t),'-b')\n",
    "ax2.set_aspect(1.0)\n",
    "\n",
    "# plot straight line\n",
    "x_min, x_max = MM[0] - 2.0*rr, MM[0] + 1.5*rr\n",
    "y_min, y_max = MM[1] - 2.0*rr, MM[1] + 1.5*rr\n",
    "if abs(a) > np.finfo(float).eps:\n",
    "    y = np.array([y_min,y_max])\n",
    "    x = (c-b*y)/a\n",
    "    ax2.plot(x,y,'-k')\n",
    "elif abs(b) > np.finfo(float).eps:\n",
    "    x = np.array([x_min,x_max])\n",
    "    y = (c-a*x)/b\n",
    "    ax2.plot(x,y,'-k')\n",
    "else:\n",
    "    print('Error !')\n",
    "\n",
    "# set limits and grid lines\n",
    "ax2.axis([x_min,x_max,y_min,y_max])\n",
    "ax2.set_aspect('equal')\n",
    "ax2.grid(True)"
   ]
  },
  {
   "cell_type": "markdown",
   "metadata": {},
   "source": [
    "# Visualization\n",
    "In order to visualize the simulation, we implement a function that draws the robot.\n",
    "The postions of the arms and the object depends on the angles $\\alpha$ and $\\beta$.\n",
    "Therefore the function `robotDraw()` gets $\\alpha$ and $\\beta$ as input arguments. "
   ]
  },
  {
   "cell_type": "code",
   "execution_count": null,
   "metadata": {},
   "outputs": [],
   "source": [
    "def robotDraw(alpha,beta):\n",
    "\n",
    "    ax = plt.gca()\n",
    "    ax.get_xaxis().set_visible(False)\n",
    "    ax.get_yaxis().set_visible(False)\n",
    "    ax.set_aspect('equal')\n",
    "    ax.set_xlim(-l1,l1+l2)\n",
    "    ax.set_ylim(-1.0,l1+l2)\n",
    "   \n",
    "    # baseline\n",
    "    baseline_x = d*np.array([-0.5,2.0])\n",
    "    baseline_y =np.array([0.0,0.0])\n",
    "    ax.plot(baseline_x,baseline_y,'-k')\n",
    "\n",
    "    # obstacle\n",
    "    obstacle_x = d+w/2*np.array([-1.0,1.0,1.0,-1.0,-1.0])\n",
    "    obstacle_y = h*np.array([0.0,0.0,1.0,1.0,0.0])\n",
    "    ax.fill_between(obstacle_x,obstacle_y,facecolor=[0.0,1.0,0.0])\n",
    "    ax.plot(obstacle_x,obstacle_y,'-k')\n",
    "\n",
    "    # robot\n",
    "    P, Q, R, M, T = robotDirectKinematics(alpha,beta)\n",
    "    ax.plot(np.array([0,P[0],Q[0],R[0]]),np.array([0,P[1],Q[1],R[1]]),'-b')\n",
    "\n",
    "    # circle\n",
    "    t = np.linspace(0.0,2*np.pi,100)\n",
    "    circle_x = M[0]+r*np.cos(t)\n",
    "    circle_y = M[1]+r*np.sin(t)\n",
    "    ax.fill_between(circle_x,circle_y,facecolor=[1.0,0.0,0.0])\n",
    "    ax.plot(circle_x,circle_y,'-k')\n",
    "\n",
    "    return"
   ]
  },
  {
   "cell_type": "markdown",
   "metadata": {},
   "source": [
    "With all the functions implemented we can now visualize the movement process.\n",
    "The procedure is as follows:\n",
    " - generate positions with `robotPath()`\n",
    " - for all positions\n",
    "     - calculate $\\alpha$ and $\\beta$ for each position with `robotInverseKinematics()`\n",
    "     - visualize the robot with `roborDraw()`"
   ]
  },
  {
   "cell_type": "code",
   "execution_count": null,
   "metadata": {},
   "outputs": [],
   "source": [
    "# generate plot\n",
    "fig3, ax3 = plt.subplots(1)\n",
    "\n",
    "# start values\n",
    "alpha = np.pi/2.0\n",
    "beta = np.pi/2.0\n",
    "\n",
    "# generate path\n",
    "path = robotPath(d/2.0,3*d/2.0,1.5*h,13)\n",
    "\n",
    "for T in path:\n",
    "    fig3.clf()\n",
    "    alpha, beta = robotInverseKinematics(T,alpha,beta)\n",
    "    robotDraw(alpha,beta)\n",
    "    display(fig3)"
   ]
  },
  {
   "cell_type": "markdown",
   "metadata": {},
   "source": [
    "# Evaluation\n",
    "Based on the animation, we get the impression that our modeling and simulation deliver reliable results.\n",
    "However, when we take a closer look, we still see problems.\n",
    "When evaluating our simulations, two different aspects play a role: verification and validation.\n",
    "Verification and validation are not the same thing, although they are often confused.\n",
    "## Verification\n",
    "Verification checks that the specifications are correctly implemented.\n",
    "It gives an answer to the question:\n",
    "\n",
    "__Are we implementing the simulation right?__\n",
    "\n",
    "To verify, we have to take into account, that Newton's method does not always calculate the correct angles.\n",
    "## Validation\n",
    "Validation checks that the simulation fullfills the needs and goals of the stakholders.\n",
    "It gives an answer to the question:\n",
    "\n",
    "__Are we implementing the right simulation?__\n",
    "\n",
    "If we compare our model with reality, we would discover differences.\n",
    "We concentrated only on the pure motion sequence and disregarded all physical quantities such as mass, forces and friction."
   ]
  },
  {
   "cell_type": "markdown",
   "metadata": {},
   "source": [
    "# Embedding"
   ]
  },
  {
   "cell_type": "markdown",
   "metadata": {},
   "source": [
    "<div class=\"alert alert-block alert-info\">\n",
    "    \n",
    "### Task 8: Video <font color=red>(4 points)</font>\n",
    "\n",
    "Generate an animation video of the robot.\n",
    "</div>"
   ]
  },
  {
   "cell_type": "code",
   "execution_count": null,
   "metadata": {
    "scrolled": true
   },
   "outputs": [],
   "source": [
    "#IFrame('robot_animation.gif', width=300, height=200)"
   ]
  },
  {
   "cell_type": "markdown",
   "metadata": {},
   "source": [
    "<div class=\"alert alert-block alert-success\">\n",
    "    \n",
    "<b>Solution of task 8</b>\n",
    "\n",
    "Video:\n",
    "</div>"
   ]
  },
  {
   "cell_type": "code",
   "execution_count": null,
   "metadata": {
    "code_folding": []
   },
   "outputs": [],
   "source": [
    "# Solution of Task 8"
   ]
  },
  {
   "cell_type": "markdown",
   "metadata": {},
   "source": [
    "# Literature\n",
    " - [J.Koch, M.Stämpfle: Mathematik für das Ingenieurstudium](https://www.hanser-fachbuch.de/buch/Mathematik+fuer+das+Ingenieurstudium/9783446451667)\n",
    " - [https://en.wikipedia.org/wiki/Industrial_robot](https://en.wikipedia.org/wiki/Industrial_robot)\n",
    " - [https://www.kuka.com](https://www.kuka.com/)"
   ]
  }
 ],
 "metadata": {
  "kernelspec": {
   "display_name": "Python 3",
   "language": "python",
   "name": "python3"
  },
  "language_info": {
   "codemirror_mode": {
    "name": "ipython",
    "version": 3
   },
   "file_extension": ".py",
   "mimetype": "text/x-python",
   "name": "python",
   "nbconvert_exporter": "python",
   "pygments_lexer": "ipython3",
   "version": "3.8.5"
  },
  "toc": {
   "base_numbering": 1,
   "nav_menu": {},
   "number_sections": true,
   "sideBar": true,
   "skip_h1_title": false,
   "title_cell": "Project robot",
   "title_sidebar": "Project robot",
   "toc_cell": true,
   "toc_position": {
    "height": "570.4px",
    "left": "35px",
    "top": "136.883px",
    "width": "385.167px"
   },
   "toc_section_display": true,
   "toc_window_display": false
  }
 },
 "nbformat": 4,
 "nbformat_minor": 2
}
